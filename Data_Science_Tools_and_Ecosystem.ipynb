{
  "nbformat": 4,
  "nbformat_minor": 0,
  "metadata": {
    "colab": {
      "provenance": [],
      "authorship_tag": "ABX9TyNXvKyMTYh0BsQdr6/GiQEt",
      "include_colab_link": true
    },
    "kernelspec": {
      "name": "python3",
      "display_name": "Python 3"
    },
    "language_info": {
      "name": "python"
    }
  },
  "cells": [
    {
      "cell_type": "markdown",
      "metadata": {
        "id": "view-in-github",
        "colab_type": "text"
      },
      "source": [
        "<a href=\"https://colab.research.google.com/github/maidacencoanastasia/python_coursera/blob/main/Data_Science_Tools_and_Ecosystem.ipynb\" target=\"_parent\"><img src=\"https://colab.research.google.com/assets/colab-badge.svg\" alt=\"Open In Colab\"/></a>"
      ]
    },
    {
      "cell_type": "markdown",
      "source": [
        "# Data Science Tools and Ecosystem"
      ],
      "metadata": {
        "id": "OGzT1SpqkcKL"
      }
    },
    {
      "cell_type": "markdown",
      "source": [
        "In this notebook, Data Science Tools and Ecosystem are summarized."
      ],
      "metadata": {
        "id": "u_l00GsnlBm1"
      }
    },
    {
      "cell_type": "markdown",
      "source": [
        "**Objectives:**\n",
        "\n",
        "- List popular languages for Data Science\n",
        "- Convert time units (e.g., minutes to hours)\n",
        "- Demonstrate the use of Data Science tools and libraries\n",
        "- Explain the basics of Jupyter Notebook operations\n",
        "- Understand fundamental concepts of model evaluation and deployment\n"
      ],
      "metadata": {
        "id": "im1TxRLaoU2R"
      }
    },
    {
      "cell_type": "markdown",
      "source": [
        "## Author\n",
        "\n",
        "Anastasia MAIDACENCO\n"
      ],
      "metadata": {
        "id": "0j2Cwbazo0-s"
      }
    },
    {
      "cell_type": "markdown",
      "source": [
        "Some of the popular languages that Data Scientists use are:\n",
        "\n",
        "\n",
        "1.   R\n",
        "2.   Python\n",
        "3.   Java\n",
        "4.   SQL\n",
        "\n"
      ],
      "metadata": {
        "id": "NmRg3WGwlTOP"
      }
    },
    {
      "cell_type": "markdown",
      "source": [
        "Some of the commonly used libraries used by Data Scientists include:\n",
        "\n",
        "\n",
        "1.   NumPy\n",
        "2.   PyTorch\n",
        "3.   SciPy\n",
        "4.   Pandas\n",
        "\n"
      ],
      "metadata": {
        "id": "7DAqKr7zl854"
      }
    },
    {
      "cell_type": "markdown",
      "source": [
        "| Data Science Tools           |\n",
        "|------------------------------|\n",
        "| Jupyter Notebook             |\n",
        "| RStudio                      |\n",
        "| Apache Zeppelin              |\n",
        "\n",
        "### Below are a few examples of evaluating arithmetic expressions in Python.\n"
      ],
      "metadata": {
        "id": "QVcpKHyTmihH"
      }
    },
    {
      "cell_type": "code",
      "source": [
        "#This a simple arithmetic expression to mutiply then add integers\n",
        "(3*4)+5"
      ],
      "metadata": {
        "colab": {
          "base_uri": "https://localhost:8080/"
        },
        "id": "gCXiCdRBnnt1",
        "outputId": "07644b40-d29a-459d-81b2-dc1e3a963592"
      },
      "execution_count": 1,
      "outputs": [
        {
          "output_type": "execute_result",
          "data": {
            "text/plain": [
              "17"
            ]
          },
          "metadata": {},
          "execution_count": 1
        }
      ]
    },
    {
      "cell_type": "code",
      "source": [
        "# This will convert 200 minutes to hours by dividing by 60\n",
        "minutes = 200\n",
        "hours = minutes / 60\n",
        "hours"
      ],
      "metadata": {
        "colab": {
          "base_uri": "https://localhost:8080/"
        },
        "id": "HJ0W9oPPn_o8",
        "outputId": "171f0fc6-aba6-42ba-d3e1-4062cde071e7"
      },
      "execution_count": 2,
      "outputs": [
        {
          "output_type": "execute_result",
          "data": {
            "text/plain": [
              "3.3333333333333335"
            ]
          },
          "metadata": {},
          "execution_count": 2
        }
      ]
    }
  ]
}